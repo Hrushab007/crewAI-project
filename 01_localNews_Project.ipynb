{
  "cells": [
    {
      "cell_type": "code",
      "execution_count": null,
      "metadata": {
        "id": "7LBboyt6w-jW"
      },
      "outputs": [],
      "source": [
        "import google.generativeai as genai\n",
        "import gradio as gr\n",
        "import requests\n",
        "from bs4 import BeautifulSoup\n",
        "import json\n",
        "from google.colab import userdata"
      ]
    },
    {
      "cell_type": "code",
      "execution_count": null,
      "metadata": {
        "colab": {
          "background_save": true,
          "base_uri": "https://localhost:8080/",
          "height": 663
        },
        "id": "YPf1jsJDxPIV",
        "outputId": "7b2608b8-32fe-452a-ea3b-31f235cf83aa"
      },
      "outputs": [
        {
          "name": "stdout",
          "output_type": "stream",
          "text": [
            "✅ Gemini API configured successfully.\n",
            "It looks like you are running Gradio on a hosted Jupyter notebook, which requires `share=True`. Automatically setting `share=True` (you can turn this off by setting `share=False` in `launch()` explicitly).\n",
            "\n",
            "Colab notebook detected. This cell will run indefinitely so that you can see errors and logs. To turn off, set debug=False in launch().\n",
            "* Running on public URL: https://39ea6af65c682889f5.gradio.live\n",
            "\n",
            "This share link expires in 1 week. For free permanent hosting and GPU upgrades, run `gradio deploy` from the terminal in the working directory to deploy to Hugging Face Spaces (https://huggingface.co/spaces)\n"
          ]
        },
        {
          "data": {
            "text/html": [
              "<div><iframe src=\"https://39ea6af65c682889f5.gradio.live\" width=\"100%\" height=\"500\" allow=\"autoplay; camera; microphone; clipboard-read; clipboard-write;\" frameborder=\"0\" allowfullscreen></iframe></div>"
            ],
            "text/plain": [
              "<IPython.core.display.HTML object>"
            ]
          },
          "metadata": {},
          "output_type": "display_data"
        }
      ],
      "source": [
        "try:\n",
        "    genai.configure(api_key=userdata.get('GEMINI_API_KEY'))\n",
        "    model = genai.GenerativeModel('gemini-1.5-flash')\n",
        "    print(\"✅ Gemini API configured successfully.\")\n",
        "except (userdata.SecretNotFoundError, Exception) as e:\n",
        "    print(\"🛑 Error: Secret 'GEMINI_API_KEY' not found or invalid. Please add it to the Colab Secrets Manager.\")\n",
        "    model = None\n",
        "\n",
        "def scrape_pune_news():\n",
        "    url = \"https://timesofindia.indiatimes.com/rssfeeds/-2128821991.cms\"\n",
        "    try:\n",
        "        response = requests.get(url)\n",
        "        response.raise_for_status()\n",
        "        soup = BeautifulSoup(response.content, 'xml')\n",
        "        articles = []\n",
        "        for item in soup.find_all('item')[:5]:\n",
        "            title = item.title.string\n",
        "            link = item.link.string\n",
        "            articles.append({'title': title, 'link': link})\n",
        "        return articles\n",
        "    except requests.exceptions.RequestException as e:\n",
        "        print(f\"Error fetching RSS feed: {e}\")\n",
        "        return []\n",
        "\n",
        "def fetch_article_text(url):\n",
        "    try:\n",
        "        response = requests.get(url, timeout=10)\n",
        "        response.raise_for_status()\n",
        "        soup = BeautifulSoup(response.content, 'html.parser')\n",
        "        paragraphs = soup.find_all('p')\n",
        "        article_text = ' '.join([p.get_text() for p in paragraphs])\n",
        "        return article_text\n",
        "    except requests.exceptions.RequestException as e:\n",
        "        print(f\"Error fetching article content from {url}: {e}\")\n",
        "        return None\n",
        "\n",
        "def analyze_article_with_gemini(article_text):\n",
        "    if not article_text or not model:\n",
        "        return None\n",
        "    categories = [\"Local News\", \"Politics\", \"Business\", \"Sports\", \"Technology\", \"Entertainment\", \"Lifestyle\"]\n",
        "    prompt = f\"\"\"\n",
        "    Analyze the following news article. Your tasks are:\n",
        "    1.  Provide a concise, one-paragraph summary of the article.\n",
        "    2.  Classify the article into ONE of the following categories: {', '.join(categories)}.\n",
        "\n",
        "    You MUST return the output ONLY as a single, valid JSON object with two keys: \"summary\" and \"category\".\n",
        "    Do not include any other text, markdown formatting (like ```json), or explanations.\n",
        "\n",
        "    Article Text:\n",
        "    ---\n",
        "    {article_text[:4000]}\n",
        "    ---\n",
        "    \"\"\"\n",
        "    try:\n",
        "        response = model.generate_content(prompt)\n",
        "        cleaned_response = response.text.strip().replace('```json', '').replace('```', '')\n",
        "        result = json.loads(cleaned_response)\n",
        "        return result\n",
        "    except (json.JSONDecodeError, Exception) as e:\n",
        "        print(f\"Error processing with Gemini or parsing JSON: {e}\")\n",
        "        return {\"summary\": \"Analysis failed for this article.\", \"category\": \"Uncategorized\"}\n",
        "\n",
        "def create_news_digest(progress=gr.Progress()):\n",
        "    if not model:\n",
        "        return \"## 🛑 Error\\n\\nGemini API is not configured. Please set the `GEMINI_API_KEY` in Colab secrets and restart the runtime.\"\n",
        "    progress(0, desc=\"Fetching news headlines...\")\n",
        "    articles = scrape_pune_news()\n",
        "    if not articles:\n",
        "        return \"## ⚠️ No Articles Found\\n\\nCould not fetch news articles. The RSS feed might be down or the URL is incorrect.\"\n",
        "    category_emojis = {\n",
        "        \"Local News\": \"🏙️\", \"Politics\": \"🏛️\", \"Business\": \"💼\",\n",
        "        \"Sports\": \"⚽\", \"Technology\": \"💻\", \"Entertainment\": \"🎬\",\n",
        "        \"Lifestyle\": \"🥗\", \"Uncategorized\": \"❓\", \"Retrieval Error\": \"❌\"\n",
        "    }\n",
        "    current_date = __import__('datetime').date.today().strftime('%B %d, %Y')\n",
        "    markdown_output = f\"<div style='text-align:center'><h1>📰 Pune News Digest</h1><p><em>Your daily brief for {current_date}</em></p></div>\\n\\n---\\n\"\n",
        "    total_articles = len(articles)\n",
        "    for i, article in enumerate(articles):\n",
        "        progress((i) / total_articles, desc=f\"Analyzing: {article['title'][:30]}...\")\n",
        "        full_text = fetch_article_text(article['link'])\n",
        "        analysis = {\"summary\": \"Could not retrieve article content.\", \"category\": \"Retrieval Error\"}\n",
        "        if full_text:\n",
        "            analysis = analyze_article_with_gemini(full_text)\n",
        "        category = analysis.get('category', 'Uncategorized')\n",
        "        emoji = category_emojis.get(category, \"❓\")\n",
        "        markdown_output += f\"### {emoji} {article['title']}\\n\"\n",
        "        markdown_output += f\"**Category:** `{category}`\\n\"\n",
        "        markdown_output += f\"**Summary:** {analysis.get('summary', 'N/A')}\\n\\n\"\n",
        "        markdown_output += f\"<p style='text-align:right;'><a href='{article['link']}' target='_blank'>Read Full Article ➔</a></p>\\n\\n\"\n",
        "        markdown_output += \"---\\n\"\n",
        "    progress(1, desc=\"Done!\")\n",
        "    return markdown_output\n",
        "\n",
        "with gr.Blocks(theme=gr.themes.Default(primary_hue=\"blue\", secondary_hue=\"blue\"), title=\"Local News Digest\") as demo:\n",
        "    gr.Markdown(\n",
        "        \"\"\"\n",
        "        <div style='text-align:center;'>\n",
        "            <h1 style='color:#2563eb;'>Local News Digest AI 🤖</h1>\n",
        "            <p>Your one-click solution to get the latest summarized and categorized news from Pune, powered by Google Gemini.</p>\n",
        "        </div>\n",
        "        \"\"\"\n",
        "    )\n",
        "    with gr.Row():\n",
        "        start_button = gr.Button(\"🚀 Generate Today's Digest\", variant=\"primary\", scale=1)\n",
        "    with gr.Accordion(\"📰 Your News Digest\", open=False) as output_accordion:\n",
        "        output_markdown = gr.Markdown(label=\"Digest\")\n",
        "\n",
        "    def run_and_open_accordion(progress=gr.Progress()):\n",
        "        results = create_news_digest(progress)\n",
        "        return {\n",
        "            output_accordion: gr.Accordion(open=True),\n",
        "            output_markdown: results\n",
        "        }\n",
        "\n",
        "    start_button.click(\n",
        "        fn=run_and_open_accordion,\n",
        "        inputs=None,\n",
        "        outputs=[output_accordion, output_markdown]\n",
        "    )\n",
        "\n",
        "demo.launch(debug=True)\n"
      ]
    }
  ],
  "metadata": {
    "colab": {
      "provenance": []
    },
    "kernelspec": {
      "display_name": "Python 3",
      "name": "python3"
    },
    "language_info": {
      "name": "python"
    }
  },
  "nbformat": 4,
  "nbformat_minor": 0
}